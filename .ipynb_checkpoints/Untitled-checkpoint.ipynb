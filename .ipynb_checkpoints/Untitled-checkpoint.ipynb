{
 "cells": [
  {
   "cell_type": "code",
   "execution_count": null,
   "id": "657f35c0",
   "metadata": {},
   "outputs": [],
   "source": [
    "#This project uses as a reference the Udemy Machine Learning and Data Science Coruse by Jose Portilla:\n",
    "#Python for Data Science and Machine Learning Bootcamp\n",
    "\n",
    "#Este projeto tem como referência o curso Python for Data Science and Machine Learning Bootcamp de Jose Portilla da Udemy :\n",
    "\n",
    "\n",
    "#@author: Gabriel Samarane Ribeiro\n",
    "#@date: 08-05-2024"
   ]
  },
  {
   "cell_type": "code",
   "execution_count": 2,
   "id": "c033ab15",
   "metadata": {},
   "outputs": [],
   "source": [
    "import numpy as np\n",
    "import pandas as pd\n",
    "import matplotlib.pyplot as plt\n",
    "import seaborn as sns\n",
    "%matplotlib inline"
   ]
  },
  {
   "cell_type": "code",
   "execution_count": null,
   "id": "b2a1eb62",
   "metadata": {},
   "outputs": [],
   "source": [
    "df = pd.read_csv('')"
   ]
  }
 ],
 "metadata": {
  "kernelspec": {
   "display_name": "Python 3",
   "language": "python",
   "name": "python3"
  },
  "language_info": {
   "codemirror_mode": {
    "name": "ipython",
    "version": 3
   },
   "file_extension": ".py",
   "mimetype": "text/x-python",
   "name": "python",
   "nbconvert_exporter": "python",
   "pygments_lexer": "ipython3",
   "version": "3.8.8"
  }
 },
 "nbformat": 4,
 "nbformat_minor": 5
}
